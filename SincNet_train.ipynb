{
  "nbformat": 4,
  "nbformat_minor": 0,
  "metadata": {
    "accelerator": "GPU",
    "colab": {
      "name": "SincNet_train.ipynb",
      "provenance": [],
      "collapsed_sections": []
    },
    "kernelspec": {
      "display_name": "Python 3",
      "language": "python",
      "name": "python3"
    },
    "language_info": {
      "codemirror_mode": {
        "name": "ipython",
        "version": 3
      },
      "file_extension": ".py",
      "mimetype": "text/x-python",
      "name": "python",
      "nbconvert_exporter": "python",
      "pygments_lexer": "ipython3",
      "version": "3.6.10"
    }
  },
  "cells": [
    {
      "cell_type": "code",
      "metadata": {
        "colab": {
          "base_uri": "https://localhost:8080/"
        },
        "id": "NQ4u6iAdttva",
        "outputId": "f9d162e7-8078-4b3c-90fc-09c40a65fb76"
      },
      "source": [
        "!nvidia-smi"
      ],
      "execution_count": null,
      "outputs": [
        {
          "output_type": "stream",
          "text": [
            "Mon Jun 21 20:07:29 2021       \n",
            "+-----------------------------------------------------------------------------+\n",
            "| NVIDIA-SMI 465.27       Driver Version: 460.32.03    CUDA Version: 11.2     |\n",
            "|-------------------------------+----------------------+----------------------+\n",
            "| GPU  Name        Persistence-M| Bus-Id        Disp.A | Volatile Uncorr. ECC |\n",
            "| Fan  Temp  Perf  Pwr:Usage/Cap|         Memory-Usage | GPU-Util  Compute M. |\n",
            "|                               |                      |               MIG M. |\n",
            "|===============================+======================+======================|\n",
            "|   0  Tesla T4            Off  | 00000000:00:04.0 Off |                    0 |\n",
            "| N/A   56C    P8    10W /  70W |      0MiB / 15109MiB |      0%      Default |\n",
            "|                               |                      |                  N/A |\n",
            "+-------------------------------+----------------------+----------------------+\n",
            "                                                                               \n",
            "+-----------------------------------------------------------------------------+\n",
            "| Processes:                                                                  |\n",
            "|  GPU   GI   CI        PID   Type   Process name                  GPU Memory |\n",
            "|        ID   ID                                                   Usage      |\n",
            "|=============================================================================|\n",
            "|  No running processes found                                                 |\n",
            "+-----------------------------------------------------------------------------+\n"
          ],
          "name": "stdout"
        }
      ]
    },
    {
      "cell_type": "code",
      "metadata": {
        "colab": {
          "base_uri": "https://localhost:8080/"
        },
        "id": "gEHcL_QDU0Pd",
        "outputId": "7fda2778-e494-4251-a52f-2966054bc442"
      },
      "source": [
        "# for colab!!!\n",
        "!git clone https://github.com/matrs01/SincNet-Implementation.git"
      ],
      "execution_count": 1,
      "outputs": [
        {
          "output_type": "stream",
          "text": [
            "Cloning into 'SincNet-Implementation'...\n",
            "remote: Enumerating objects: 13, done.\u001b[K\n",
            "remote: Counting objects: 100% (13/13), done.\u001b[K\n",
            "remote: Compressing objects: 100% (11/11), done.\u001b[K\n",
            "remote: Total 13 (delta 1), reused 13 (delta 1), pack-reused 0\u001b[K\n",
            "Unpacking objects: 100% (13/13), done.\n"
          ],
          "name": "stdout"
        }
      ]
    },
    {
      "cell_type": "code",
      "metadata": {
        "id": "X_1T8Y2uWitx"
      },
      "source": [
        "from typing import Optional, Tuple, Callable\n",
        "\n",
        "import numpy as np\n",
        "import torch\n",
        "import torch.nn.functional as F\n",
        "import torch.nn as nn\n",
        "from torch.utils.data import Dataset, DataLoader\n",
        "import sys\n",
        "from torch.autograd import Variable\n",
        "import math\n",
        "import soundfile as sf\n",
        "from tqdm import tqdm"
      ],
      "execution_count": 2,
      "outputs": []
    },
    {
      "cell_type": "code",
      "metadata": {
        "colab": {
          "base_uri": "https://localhost:8080/"
        },
        "id": "DRUFMIq5VDb1",
        "outputId": "b88f2d6f-29ee-41da-ecff-37659631f6c6"
      },
      "source": [
        "%cd /content/SincNet-Implementation"
      ],
      "execution_count": 4,
      "outputs": [
        {
          "output_type": "stream",
          "text": [
            "/content/SincNet-Implementation\n"
          ],
          "name": "stdout"
        }
      ]
    },
    {
      "cell_type": "code",
      "metadata": {
        "id": "zaDvEOMqUzOX"
      },
      "source": [
        "from model import sinc_Conv1d, LayerNorm, SincNet\n",
        "from utilities import SincNet_Dataset, Valid_DataLoader, train, ReadList"
      ],
      "execution_count": 5,
      "outputs": []
    },
    {
      "cell_type": "code",
      "metadata": {
        "colab": {
          "base_uri": "https://localhost:8080/"
        },
        "id": "bIY-HIV7Mdsu",
        "outputId": "df3a266e-39cb-4680-9429-efcb020d7c23"
      },
      "source": [
        "from google.colab import drive\n",
        "drive.mount('/content/gdrive/')"
      ],
      "execution_count": 6,
      "outputs": [
        {
          "output_type": "stream",
          "text": [
            "Mounted at /content/gdrive/\n"
          ],
          "name": "stdout"
        }
      ]
    },
    {
      "cell_type": "code",
      "metadata": {
        "colab": {
          "base_uri": "https://localhost:8080/"
        },
        "id": "7CXj3ichGmEg",
        "outputId": "96f73b7f-33bc-431f-84d9-f5a380707fb7"
      },
      "source": [
        "%%time\n",
        "from google_drive_downloader import GoogleDriveDownloader as gdd\n",
        "gdd.download_file_from_google_drive(file_id='1bJnP1rAuuJXjIqouvdH8awSgr-mH_kMT' , \n",
        "                                    dest_path='/content/TIMIT_preprocessed.zip', \n",
        "                                    unzip=True)"
      ],
      "execution_count": 7,
      "outputs": [
        {
          "output_type": "stream",
          "text": [
            "Downloading 1bJnP1rAuuJXjIqouvdH8awSgr-mH_kMT into /content/TIMIT_preprocessed.zip... Done.\n",
            "Unzipping...Done.\n",
            "CPU times: user 4.28 s, sys: 1.46 s, total: 5.74 s\n",
            "Wall time: 12 s\n"
          ],
          "name": "stdout"
        }
      ]
    },
    {
      "cell_type": "code",
      "metadata": {
        "id": "-RvyxPFRGl4I"
      },
      "source": [
        "lr = 0.001\n",
        "batch_size = 2400\n",
        "N_eval_epoch = 8\n",
        "seed = 1234"
      ],
      "execution_count": 8,
      "outputs": []
    },
    {
      "cell_type": "code",
      "metadata": {
        "id": "d7jQpjqPX3cY"
      },
      "source": [
        "train_track_list = ReadList('data_lists/TIMIT_train.scp')\n",
        "val_track_list = ReadList('data_lists/TIMIT_test.scp')\n",
        "data_path = '/content/TIMIT_preprocessed/'\n",
        "num_train_tracks = len(train_track_list)\n",
        "num_val_tracks = len(val_track_list)"
      ],
      "execution_count": 9,
      "outputs": []
    },
    {
      "cell_type": "code",
      "metadata": {
        "id": "kmlQxp_DYxY1"
      },
      "source": [
        "torch.manual_seed(seed)\n",
        "np.random.seed(seed)"
      ],
      "execution_count": 10,
      "outputs": []
    },
    {
      "cell_type": "code",
      "metadata": {
        "id": "ziPJ8JM8Y2wo"
      },
      "source": [
        "criterion = nn.CrossEntropyLoss()"
      ],
      "execution_count": 11,
      "outputs": []
    },
    {
      "cell_type": "code",
      "metadata": {
        "id": "qvQxGWahY7D_"
      },
      "source": [
        "input_dim = 3200\n",
        "shift_size = 160"
      ],
      "execution_count": 12,
      "outputs": []
    },
    {
      "cell_type": "code",
      "metadata": {
        "id": "ZYoOaPYLZU2_"
      },
      "source": [
        "DEVICE = \"cuda\" if torch.cuda.is_available() else \"cpu\"\n",
        "DEVICE"
      ],
      "execution_count": null,
      "outputs": []
    },
    {
      "cell_type": "code",
      "metadata": {
        "id": "TCffMp_jZaPC"
      },
      "source": [
        "# Loading label dictionary\n",
        "labels_dict = np.load('data_lists/TIMIT_labels.npy', allow_pickle=True).item()"
      ],
      "execution_count": 14,
      "outputs": []
    },
    {
      "cell_type": "code",
      "metadata": {
        "id": "0qXirirjZuEH"
      },
      "source": [
        "model = SincNet(input_dim=input_dim).to(DEVICE)"
      ],
      "execution_count": 15,
      "outputs": []
    },
    {
      "cell_type": "code",
      "metadata": {
        "id": "26XoLr4pZ8rj"
      },
      "source": [
        "optimizer = torch.optim.Adam(model.parameters(), lr=lr)"
      ],
      "execution_count": 16,
      "outputs": []
    },
    {
      "cell_type": "code",
      "metadata": {
        "id": "DwlwGc6kahng"
      },
      "source": [
        "train_dataset = SincNet_Dataset(batch_size, data_path, \n",
        "                                train_track_list, num_train_tracks, \n",
        "                                input_dim, labels_dict)"
      ],
      "execution_count": 17,
      "outputs": []
    },
    {
      "cell_type": "code",
      "metadata": {
        "id": "xl89vTPTbGnC"
      },
      "source": [
        "train_dataloader = DataLoader(train_dataset, batch_size=batch_size, shuffle=True)\n",
        "valid_dataloader = Valid_DataLoader(batch_size, data_path, \n",
        "                                val_track_list, num_val_tracks, \n",
        "                                input_dim, shift_size, labels_dict)"
      ],
      "execution_count": 18,
      "outputs": []
    },
    {
      "cell_type": "code",
      "metadata": {
        "colab": {
          "base_uri": "https://localhost:8080/"
        },
        "id": "OqRhOKlnaNNx",
        "outputId": "4745eef8-caad-45bb-a072-d98b3424bdaf"
      },
      "source": [
        "train_losses, train_cerr, val_losses, val_cerr, val_sentece_cerr = train(model, \n",
        "                                                                         train_dataloader, \n",
        "                                                                         valid_dataloader, \n",
        "                                                                         optimizer, \n",
        "                                                                         criterion, \n",
        "                                                                         num_epochs=10000, \n",
        "                                                                         N_eval_epochs=400,\n",
        "                                                                         save_path='/content/gdrive/MyDrive/Deep_Learning/Audio/SincNet/checkpoints/run007__bs=1200.pth')"
      ],
      "execution_count": null,
      "outputs": [
        {
          "output_type": "stream",
          "text": [
            "/usr/local/lib/python3.7/dist-packages/torch/nn/functional.py:652: UserWarning: Named tensors and all their associated APIs are an experimental feature and subject to change. Please do not use them for anything important until they are released as stable. (Triggered internally at  /pytorch/c10/core/TensorImpl.h:1156.)\n",
            "  return torch.max_pool1d(input, kernel_size, stride, padding, dilation, ceil_mode)\n"
          ],
          "name": "stderr"
        },
        {
          "output_type": "stream",
          "text": [
            "(epoch 0) VALID: loss = 6.135992551778818, cerr = 0.99769623301215, snt_cerr = 0.9956709956709957\n",
            "(epoch 400) TRAIN: loss = 3.8831424629688263, cerr = 0.797831168831169\n",
            "(epoch 400) VALID: loss = 3.6929122477898866, cerr = 0.7764044025187322, snt_cerr = 0.2049062049062049\n",
            "(epoch 800) TRAIN: loss = 1.34682788297534, cerr = 0.3361428571428569\n",
            "(epoch 800) VALID: loss = 3.412116493282552, cerr = 0.6730591885694133, snt_cerr = 0.05916305916305916\n",
            "(epoch 1200) TRAIN: loss = 0.45513147555291655, cerr = 0.11695454545454548\n",
            "(epoch 1200) VALID: loss = 3.7165515484532925, cerr = 0.6560198733775542, snt_cerr = 0.05411255411255411\n",
            "(epoch 1600) TRAIN: loss = 0.18143391862511635, cerr = 0.04671536796536796\n",
            "(epoch 1600) VALID: loss = 3.9844821681675713, cerr = 0.6412055058239615, snt_cerr = 0.05483405483405483\n",
            "(epoch 2000) TRAIN: loss = 0.09432727382518351, cerr = 0.02415476190476191\n",
            "(epoch 2000) VALID: loss = 4.194822079508765, cerr = 0.6385211615423559, snt_cerr = 0.05411255411255411\n",
            "(epoch 2400) TRAIN: loss = 0.06734015669673682, cerr = 0.018014069264069277\n",
            "(epoch 2400) VALID: loss = 4.342487102076089, cerr = 0.6353763158127483, snt_cerr = 0.051226551226551224\n",
            "(epoch 2800) TRAIN: loss = 0.058709285957738756, cerr = 0.016343073593073604\n",
            "(epoch 2800) VALID: loss = 4.670222058333188, cerr = 0.6428130635243329, snt_cerr = 0.05555555555555555\n",
            "(epoch 3200) TRAIN: loss = 0.055208177510648965, cerr = 0.01609956709956711\n",
            "(epoch 3200) VALID: loss = 4.826557499968042, cerr = 0.6430166052118121, snt_cerr = 0.05988455988455989\n",
            "(epoch 3600) TRAIN: loss = 0.04683509660884738, cerr = 0.01385606060606061\n",
            "(epoch 3600) VALID: loss = 4.917216005048367, cerr = 0.6392237774122985, snt_cerr = 0.046176046176046176\n"
          ],
          "name": "stdout"
        }
      ]
    },
    {
      "cell_type": "code",
      "metadata": {
        "id": "64JY9AnhI5t_"
      },
      "source": [
        "# torch.save(model.state_dict(), '/content/gdrive/MyDrive/Deep_Learning/Audio/SincNet/checkpoints/bs=1000__num_epoch=1000__train_loss=0.51__val_los=3.34__val_cerr=0.64__val_cent_cer=0.077.pth')"
      ],
      "execution_count": null,
      "outputs": []
    },
    {
      "cell_type": "code",
      "metadata": {
        "id": "JW1wGr8PoZOG"
      },
      "source": [
        ""
      ],
      "execution_count": null,
      "outputs": []
    }
  ]
}